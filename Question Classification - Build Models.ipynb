{
 "cells": [
  {
   "cell_type": "code",
   "execution_count": 1,
   "metadata": {},
   "outputs": [],
   "source": [
    "import numpy as np\n",
    "import pandas as pd\n",
    "\n",
    "import nltk\n",
    "import re\n",
    "import gensim\n",
    "\n",
    "import os\n",
    "\n",
    "import time\n",
    "\n",
    "import gc"
   ]
  },
  {
   "cell_type": "code",
   "execution_count": 2,
   "metadata": {},
   "outputs": [],
   "source": [
    "df = pd.read_csv('dataset.csv')"
   ]
  },
  {
   "cell_type": "code",
   "execution_count": 3,
   "metadata": {},
   "outputs": [
    {
     "data": {
      "text/html": [
       "<div>\n",
       "<style scoped>\n",
       "    .dataframe tbody tr th:only-of-type {\n",
       "        vertical-align: middle;\n",
       "    }\n",
       "\n",
       "    .dataframe tbody tr th {\n",
       "        vertical-align: top;\n",
       "    }\n",
       "\n",
       "    .dataframe thead th {\n",
       "        text-align: right;\n",
       "    }\n",
       "</style>\n",
       "<table border=\"1\" class=\"dataframe\">\n",
       "  <thead>\n",
       "    <tr style=\"text-align: right;\">\n",
       "      <th></th>\n",
       "      <th>Unnamed: 0</th>\n",
       "      <th>Questions</th>\n",
       "      <th>Category0</th>\n",
       "      <th>Category1</th>\n",
       "      <th>Category2</th>\n",
       "    </tr>\n",
       "  </thead>\n",
       "  <tbody>\n",
       "    <tr>\n",
       "      <th>0</th>\n",
       "      <td>0</td>\n",
       "      <td>How did serfdom develop in and then leave Russ...</td>\n",
       "      <td>DESCRIPTION</td>\n",
       "      <td>DESC</td>\n",
       "      <td>manner</td>\n",
       "    </tr>\n",
       "    <tr>\n",
       "      <th>1</th>\n",
       "      <td>1</td>\n",
       "      <td>What films featured the character Popeye Doyle ?</td>\n",
       "      <td>ENTITY</td>\n",
       "      <td>ENTY</td>\n",
       "      <td>cremat</td>\n",
       "    </tr>\n",
       "    <tr>\n",
       "      <th>2</th>\n",
       "      <td>2</td>\n",
       "      <td>How can I find a list of celebrities ' real na...</td>\n",
       "      <td>DESCRIPTION</td>\n",
       "      <td>DESC</td>\n",
       "      <td>manner</td>\n",
       "    </tr>\n",
       "    <tr>\n",
       "      <th>3</th>\n",
       "      <td>3</td>\n",
       "      <td>What fowl grabs the spotlight after the Chines...</td>\n",
       "      <td>ENTITY</td>\n",
       "      <td>ENTY</td>\n",
       "      <td>animal</td>\n",
       "    </tr>\n",
       "    <tr>\n",
       "      <th>4</th>\n",
       "      <td>4</td>\n",
       "      <td>What is the full form of .com ?</td>\n",
       "      <td>ABBREVIATION</td>\n",
       "      <td>ABBR</td>\n",
       "      <td>exp</td>\n",
       "    </tr>\n",
       "  </tbody>\n",
       "</table>\n",
       "</div>"
      ],
      "text/plain": [
       "   Unnamed: 0                                          Questions  \\\n",
       "0           0  How did serfdom develop in and then leave Russ...   \n",
       "1           1   What films featured the character Popeye Doyle ?   \n",
       "2           2  How can I find a list of celebrities ' real na...   \n",
       "3           3  What fowl grabs the spotlight after the Chines...   \n",
       "4           4                    What is the full form of .com ?   \n",
       "\n",
       "      Category0 Category1 Category2  \n",
       "0   DESCRIPTION      DESC    manner  \n",
       "1        ENTITY      ENTY    cremat  \n",
       "2   DESCRIPTION      DESC    manner  \n",
       "3        ENTITY      ENTY    animal  \n",
       "4  ABBREVIATION      ABBR       exp  "
      ]
     },
     "execution_count": 3,
     "metadata": {},
     "output_type": "execute_result"
    }
   ],
   "source": [
    "df.head()"
   ]
  },
  {
   "cell_type": "code",
   "execution_count": 4,
   "metadata": {},
   "outputs": [
    {
     "data": {
      "text/plain": [
       "ENTITY          1250\n",
       "HUMAN           1223\n",
       "DESCRIPTION     1162\n",
       "NUMERIC          896\n",
       "LOCATION         835\n",
       "ABBREVIATION      86\n",
       "Name: Category0, dtype: int64"
      ]
     },
     "execution_count": 4,
     "metadata": {},
     "output_type": "execute_result"
    }
   ],
   "source": [
    "#check unique values\n",
    "\n",
    "df['Category0'].value_counts()"
   ]
  },
  {
   "cell_type": "code",
   "execution_count": 5,
   "metadata": {},
   "outputs": [
    {
     "data": {
      "text/plain": [
       "ENTY    1250\n",
       "HUM     1223\n",
       "DESC    1162\n",
       "NUM      896\n",
       "LOC      835\n",
       "ABBR      86\n",
       "Name: Category1, dtype: int64"
      ]
     },
     "execution_count": 5,
     "metadata": {},
     "output_type": "execute_result"
    }
   ],
   "source": [
    "df['Category1'].value_counts()"
   ]
  },
  {
   "cell_type": "code",
   "execution_count": 6,
   "metadata": {},
   "outputs": [
    {
     "data": {
      "text/plain": [
       "ind          962\n",
       "other        733\n",
       "def          421\n",
       "count        363\n",
       "desc         321\n",
       "manner       276\n",
       "date         218\n",
       "cremat       207\n",
       "reason       191\n",
       "gr           189\n",
       "country      155\n",
       "city         129\n",
       "animal       112\n",
       "food         103\n",
       "dismed       103\n",
       "termeq        93\n",
       "period        75\n",
       "money         71\n",
       "exp           70\n",
       "state         66\n",
       "sport         62\n",
       "event         56\n",
       "product       42\n",
       "substance     41\n",
       "color         40\n",
       "techmeth      38\n",
       "dist          34\n",
       "perc          27\n",
       "veh           27\n",
       "word          26\n",
       "title         25\n",
       "mount         21\n",
       "body          16\n",
       "abb           16\n",
       "lang          16\n",
       "plant         13\n",
       "volsize       13\n",
       "symbol        11\n",
       "weight        11\n",
       "instru        10\n",
       "code           9\n",
       "letter         9\n",
       "speed          9\n",
       "temp           8\n",
       "ord            6\n",
       "currency       4\n",
       "religion       4\n",
       "Name: Category2, dtype: int64"
      ]
     },
     "execution_count": 6,
     "metadata": {},
     "output_type": "execute_result"
    }
   ],
   "source": [
    "df['Category2'].value_counts()"
   ]
  },
  {
   "cell_type": "code",
   "execution_count": 8,
   "metadata": {},
   "outputs": [],
   "source": [
    "df.drop_duplicates(inplace=True)\n",
    "df.dropna(inplace=True)\n",
    "df.reset_index(inplace=True, drop=True)"
   ]
  },
  {
   "cell_type": "code",
   "execution_count": 9,
   "metadata": {},
   "outputs": [
    {
     "data": {
      "text/plain": [
       "(5452, 5)"
      ]
     },
     "execution_count": 9,
     "metadata": {},
     "output_type": "execute_result"
    }
   ],
   "source": [
    "df.shape"
   ]
  },
  {
   "cell_type": "code",
   "execution_count": 12,
   "metadata": {},
   "outputs": [],
   "source": [
    "#map category labels\n",
    "df['cat_label'] = pd.factorize(df['Category1'])[0]\n",
    "df['topic_label'] = pd.factorize(df['Category2'])[0]"
   ]
  },
  {
   "cell_type": "code",
   "execution_count": 13,
   "metadata": {},
   "outputs": [
    {
     "data": {
      "text/html": [
       "<div>\n",
       "<style scoped>\n",
       "    .dataframe tbody tr th:only-of-type {\n",
       "        vertical-align: middle;\n",
       "    }\n",
       "\n",
       "    .dataframe tbody tr th {\n",
       "        vertical-align: top;\n",
       "    }\n",
       "\n",
       "    .dataframe thead th {\n",
       "        text-align: right;\n",
       "    }\n",
       "</style>\n",
       "<table border=\"1\" class=\"dataframe\">\n",
       "  <thead>\n",
       "    <tr style=\"text-align: right;\">\n",
       "      <th></th>\n",
       "      <th>Unnamed: 0</th>\n",
       "      <th>Questions</th>\n",
       "      <th>Category0</th>\n",
       "      <th>Category1</th>\n",
       "      <th>Category2</th>\n",
       "      <th>cat_label</th>\n",
       "      <th>topic_label</th>\n",
       "    </tr>\n",
       "  </thead>\n",
       "  <tbody>\n",
       "    <tr>\n",
       "      <th>0</th>\n",
       "      <td>0</td>\n",
       "      <td>How did serfdom develop in and then leave Russ...</td>\n",
       "      <td>DESCRIPTION</td>\n",
       "      <td>DESC</td>\n",
       "      <td>manner</td>\n",
       "      <td>0</td>\n",
       "      <td>0</td>\n",
       "    </tr>\n",
       "    <tr>\n",
       "      <th>1</th>\n",
       "      <td>1</td>\n",
       "      <td>What films featured the character Popeye Doyle ?</td>\n",
       "      <td>ENTITY</td>\n",
       "      <td>ENTY</td>\n",
       "      <td>cremat</td>\n",
       "      <td>1</td>\n",
       "      <td>1</td>\n",
       "    </tr>\n",
       "    <tr>\n",
       "      <th>2</th>\n",
       "      <td>2</td>\n",
       "      <td>How can I find a list of celebrities ' real na...</td>\n",
       "      <td>DESCRIPTION</td>\n",
       "      <td>DESC</td>\n",
       "      <td>manner</td>\n",
       "      <td>0</td>\n",
       "      <td>0</td>\n",
       "    </tr>\n",
       "    <tr>\n",
       "      <th>3</th>\n",
       "      <td>3</td>\n",
       "      <td>What fowl grabs the spotlight after the Chines...</td>\n",
       "      <td>ENTITY</td>\n",
       "      <td>ENTY</td>\n",
       "      <td>animal</td>\n",
       "      <td>1</td>\n",
       "      <td>2</td>\n",
       "    </tr>\n",
       "    <tr>\n",
       "      <th>4</th>\n",
       "      <td>4</td>\n",
       "      <td>What is the full form of .com ?</td>\n",
       "      <td>ABBREVIATION</td>\n",
       "      <td>ABBR</td>\n",
       "      <td>exp</td>\n",
       "      <td>2</td>\n",
       "      <td>3</td>\n",
       "    </tr>\n",
       "  </tbody>\n",
       "</table>\n",
       "</div>"
      ],
      "text/plain": [
       "   Unnamed: 0                                          Questions  \\\n",
       "0           0  How did serfdom develop in and then leave Russ...   \n",
       "1           1   What films featured the character Popeye Doyle ?   \n",
       "2           2  How can I find a list of celebrities ' real na...   \n",
       "3           3  What fowl grabs the spotlight after the Chines...   \n",
       "4           4                    What is the full form of .com ?   \n",
       "\n",
       "      Category0 Category1 Category2  cat_label  topic_label  \n",
       "0   DESCRIPTION      DESC    manner          0            0  \n",
       "1        ENTITY      ENTY    cremat          1            1  \n",
       "2   DESCRIPTION      DESC    manner          0            0  \n",
       "3        ENTITY      ENTY    animal          1            2  \n",
       "4  ABBREVIATION      ABBR       exp          2            3  "
      ]
     },
     "execution_count": 13,
     "metadata": {},
     "output_type": "execute_result"
    }
   ],
   "source": [
    "df.head()"
   ]
  },
  {
   "cell_type": "code",
   "execution_count": 53,
   "metadata": {},
   "outputs": [],
   "source": [
    "#lets form feature vectors - using TF-IDF\n",
    "\n",
    "from sklearn.feature_extraction.text import TfidfVectorizer\n",
    "from sklearn.metrics import accuracy_score, precision_score, recall_score    \n",
    "from sklearn.metrics import confusion_matrix as cm"
   ]
  },
  {
   "cell_type": "code",
   "execution_count": 33,
   "metadata": {},
   "outputs": [],
   "source": [
    "from sklearn.model_selection import train_test_split\n",
    "\n",
    "corpus = df['Questions'].apply(lambda x : str(x).lower()).tolist()\n",
    "\n",
    "y1 = df['cat_label']   # task 1\n",
    "y2 = df['topic_label'] # task 2"
   ]
  },
  {
   "cell_type": "code",
   "execution_count": 43,
   "metadata": {},
   "outputs": [],
   "source": [
    "vectorizer = TfidfVectorizer(use_idf=True)\n",
    "\n",
    "X = vectorizer.fit_transform(corpus)"
   ]
  },
  {
   "cell_type": "code",
   "execution_count": 49,
   "metadata": {},
   "outputs": [],
   "source": [
    "x_tr, x_te, y_tr, y_te = train_test_split(X, y1, test_size = 0.25, random_state = 42)"
   ]
  },
  {
   "cell_type": "code",
   "execution_count": 44,
   "metadata": {},
   "outputs": [],
   "source": [
    "task_df = pd.DataFrame(X[0].T.todense(),index=vectorizer.get_feature_names(), columns=[\"TF-IDF\"])"
   ]
  },
  {
   "cell_type": "code",
   "execution_count": 52,
   "metadata": {},
   "outputs": [],
   "source": [
    "#import classifiers\n",
    "\n",
    "from sklearn.svm import SVC, LinearSVC\n",
    "from sklearn.tree import DecisionTreeClassifier\n",
    "from sklearn.ensemble import RandomForestClassifier"
   ]
  },
  {
   "cell_type": "code",
   "execution_count": 85,
   "metadata": {},
   "outputs": [],
   "source": [
    "def evaluate(clf, x_tr = x_tr, x_te = x_te, y_tr = y_tr, y_test = y_te):\n",
    "    \n",
    "    import seaborn as sns\n",
    "    \n",
    "    print('Classifier : {}'.format(clf))\n",
    "    clf.fit(x_tr, y_tr)\n",
    "    y_pred = clf.predict(x_te)\n",
    "    \n",
    "    acc = accuracy_score(y_pred, y_test)\n",
    "    prc = precision_score(y_pred, y_test, average = None)\n",
    "    rec = recall_score(y_pred, y_test, average = None)\n",
    "    con = cm(y_test, y_pred)\n",
    "    \n",
    "    print('Metrics : \\n')\n",
    "    print('Accuracy : {:.2f}%\\nPrecision : {}\\nRecall : {}'.format(acc*100,prc*100,rec*100))\n",
    "    print('Confusion Matrix : \\n{}'.format(con))\n",
    "    \n",
    "    print('*'*100)\n",
    "    print('\\n\\n')\n",
    "    \n",
    "    return clf"
   ]
  },
  {
   "cell_type": "code",
   "execution_count": 86,
   "metadata": {},
   "outputs": [],
   "source": [
    "svm = SVC(decision_function_shape='ovo') #one vs one\n",
    "lin_svm = LinearSVC()\n",
    "dt = DecisionTreeClassifier()\n",
    "rf = RandomForestClassifier(n_estimators = 150)"
   ]
  },
  {
   "cell_type": "markdown",
   "metadata": {},
   "source": [
    "# Task 1 - Predict Category"
   ]
  },
  {
   "cell_type": "code",
   "execution_count": 87,
   "metadata": {},
   "outputs": [
    {
     "name": "stdout",
     "output_type": "stream",
     "text": [
      "Classifier : SVC(C=1.0, break_ties=False, cache_size=200, class_weight=None, coef0=0.0,\n",
      "    decision_function_shape='ovo', degree=3, gamma='scale', kernel='rbf',\n",
      "    max_iter=-1, probability=False, random_state=None, shrinking=True,\n",
      "    tol=0.001, verbose=False)\n",
      "Metrics : \n",
      "\n",
      "Accuracy : 80.85%\n",
      "Precision : [77.36486486 90.4109589  59.25925926 75.         86.72566372 77.61904762]\n",
      "Recall : [ 84.81481481  59.86394558 100.          92.85714286  94.68599034\n",
      "  92.09039548]\n",
      "Confusion Matrix : \n",
      "[[229  48   0   3   8   8]\n",
      " [ 10 264   0  11   2   5]\n",
      " [  9   2  16   0   0   0]\n",
      " [  7  70   0 234   1   0]\n",
      " [ 11  17   0   1 196   1]\n",
      " [  4  40   0   3   0 163]]\n",
      "****************************************************************************************************\n",
      "\n",
      "\n",
      "\n",
      "Classifier : LinearSVC(C=1.0, class_weight=None, dual=True, fit_intercept=True,\n",
      "          intercept_scaling=1, loss='squared_hinge', max_iter=1000,\n",
      "          multi_class='ovr', penalty='l2', random_state=None, tol=0.0001,\n",
      "          verbose=0)\n",
      "Metrics : \n",
      "\n",
      "Accuracy : 83.49%\n",
      "Precision : [80.40540541 78.76712329 66.66666667 83.01282051 91.15044248 89.04761905]\n",
      "Recall : [ 85.          72.78481013 100.          85.47854785  89.95633188\n",
      "  86.17511521]\n",
      "Confusion Matrix : \n",
      "[[238  29   0   9  10  10]\n",
      " [ 16 230   0  25   7  14]\n",
      " [  6   1  18   2   0   0]\n",
      " [  8  39   0 259   2   4]\n",
      " [ 10   4   0   4 206   2]\n",
      " [  2  13   0   4   4 187]]\n",
      "****************************************************************************************************\n",
      "\n",
      "\n",
      "\n",
      "Classifier : DecisionTreeClassifier(ccp_alpha=0.0, class_weight=None, criterion='gini',\n",
      "                       max_depth=None, max_features=None, max_leaf_nodes=None,\n",
      "                       min_impurity_decrease=0.0, min_impurity_split=None,\n",
      "                       min_samples_leaf=1, min_samples_split=2,\n",
      "                       min_weight_fraction_leaf=0.0, presort='deprecated',\n",
      "                       random_state=None, splitter='best')\n",
      "Metrics : \n",
      "\n",
      "Accuracy : 73.37%\n",
      "Precision : [73.98648649 65.75342466 59.25925926 69.23076923 87.16814159 76.19047619]\n",
      "Recall : [76.04166667 53.63128492 76.19047619 76.32508834 86.02620087 86.95652174]\n",
      "Confusion Matrix : \n",
      "[[219  41   4  12  11   9]\n",
      " [ 31 192   0  46  13  10]\n",
      " [  7   2  16   0   2   0]\n",
      " [ 15  73   0 216   3   5]\n",
      " [  7  17   0   5 197   0]\n",
      " [  9  33   1   4   3 160]]\n",
      "****************************************************************************************************\n",
      "\n",
      "\n",
      "\n",
      "Classifier : RandomForestClassifier(bootstrap=True, ccp_alpha=0.0, class_weight=None,\n",
      "                       criterion='gini', max_depth=None, max_features='auto',\n",
      "                       max_leaf_nodes=None, max_samples=None,\n",
      "                       min_impurity_decrease=0.0, min_impurity_split=None,\n",
      "                       min_samples_leaf=1, min_samples_split=2,\n",
      "                       min_weight_fraction_leaf=0.0, n_estimators=150,\n",
      "                       n_jobs=None, oob_score=False, random_state=None,\n",
      "                       verbose=0, warm_start=False)\n",
      "Metrics : \n",
      "\n",
      "Accuracy : 78.72%\n",
      "Precision : [76.35135135 87.67123288 66.66666667 69.55128205 85.84070796 77.14285714]\n",
      "Recall : [ 88.62745098  54.93562232 100.          91.17647059  93.71980676\n",
      "  90.5027933 ]\n",
      "Confusion Matrix : \n",
      "[[226  50   0   2  10   8]\n",
      " [ 12 256   0  16   1   7]\n",
      " [  6   2  18   1   0   0]\n",
      " [  2  92   0 217   1   0]\n",
      " [  5  25   0   0 194   2]\n",
      " [  4  41   0   2   1 162]]\n",
      "****************************************************************************************************\n",
      "\n",
      "\n",
      "\n"
     ]
    },
    {
     "data": {
      "text/plain": [
       "RandomForestClassifier(bootstrap=True, ccp_alpha=0.0, class_weight=None,\n",
       "                       criterion='gini', max_depth=None, max_features='auto',\n",
       "                       max_leaf_nodes=None, max_samples=None,\n",
       "                       min_impurity_decrease=0.0, min_impurity_split=None,\n",
       "                       min_samples_leaf=1, min_samples_split=2,\n",
       "                       min_weight_fraction_leaf=0.0, n_estimators=150,\n",
       "                       n_jobs=None, oob_score=False, random_state=None,\n",
       "                       verbose=0, warm_start=False)"
      ]
     },
     "execution_count": 87,
     "metadata": {},
     "output_type": "execute_result"
    }
   ],
   "source": [
    "evaluate(svm)\n",
    "evaluate(lin_svm)\n",
    "evaluate(dt)\n",
    "evaluate(rf)\n"
   ]
  },
  {
   "cell_type": "code",
   "execution_count": 89,
   "metadata": {},
   "outputs": [
    {
     "name": "stdout",
     "output_type": "stream",
     "text": [
      "Classifier : LinearSVC(C=1.0, class_weight=None, dual=True, fit_intercept=True,\n",
      "          intercept_scaling=1, loss='squared_hinge', max_iter=1000,\n",
      "          multi_class='ovr', penalty='l2', random_state=None, tol=0.0001,\n",
      "          verbose=0)\n",
      "Metrics : \n",
      "\n",
      "Accuracy : 83.49%\n",
      "Precision : [80.40540541 78.76712329 66.66666667 83.01282051 91.15044248 89.04761905]\n",
      "Recall : [ 85.          72.78481013 100.          85.47854785  89.95633188\n",
      "  86.17511521]\n",
      "Confusion Matrix : \n",
      "[[238  29   0   9  10  10]\n",
      " [ 16 230   0  25   7  14]\n",
      " [  6   1  18   2   0   0]\n",
      " [  8  39   0 259   2   4]\n",
      " [ 10   4   0   4 206   2]\n",
      " [  2  13   0   4   4 187]]\n",
      "****************************************************************************************************\n",
      "\n",
      "\n",
      "\n"
     ]
    }
   ],
   "source": [
    "#linear SVC works better. So lets save this model for processing\n",
    "\n",
    "svm_model = evaluate(lin_svm)"
   ]
  },
  {
   "cell_type": "code",
   "execution_count": 92,
   "metadata": {},
   "outputs": [
    {
     "name": "stdout",
     "output_type": "stream",
     "text": [
      "Fitting 5 folds for each of 5 candidates, totalling 25 fits\n",
      "[CV] C=0.1 ...........................................................\n",
      "[CV] ............................... C=0.1, score=0.793, total=   0.0s\n",
      "[CV] C=0.1 ...........................................................\n",
      "[CV] ............................... C=0.1, score=0.800, total=   0.0s\n",
      "[CV] C=0.1 ...........................................................\n",
      "[CV] ............................... C=0.1, score=0.767, total=   0.0s\n",
      "[CV] C=0.1 ...........................................................\n",
      "[CV] ............................... C=0.1, score=0.796, total=   0.0s\n",
      "[CV] C=0.1 ...........................................................\n",
      "[CV] ............................... C=0.1, score=0.796, total=   0.0s\n",
      "[CV] C=1 .............................................................\n",
      "[CV] ................................. C=1, score=0.835, total=   0.0s\n",
      "[CV] C=1 .............................................................\n"
     ]
    },
    {
     "name": "stderr",
     "output_type": "stream",
     "text": [
      "[Parallel(n_jobs=1)]: Using backend SequentialBackend with 1 concurrent workers.\n",
      "[Parallel(n_jobs=1)]: Done   1 out of   1 | elapsed:    0.0s remaining:    0.0s\n",
      "[Parallel(n_jobs=1)]: Done   2 out of   2 | elapsed:    0.1s remaining:    0.0s\n"
     ]
    },
    {
     "name": "stdout",
     "output_type": "stream",
     "text": [
      "[CV] ................................. C=1, score=0.826, total=   0.0s\n",
      "[CV] C=1 .............................................................\n",
      "[CV] ................................. C=1, score=0.806, total=   0.0s\n",
      "[CV] C=1 .............................................................\n",
      "[CV] ................................. C=1, score=0.807, total=   0.0s\n",
      "[CV] C=1 .............................................................\n",
      "[CV] ................................. C=1, score=0.825, total=   0.0s\n",
      "[CV] C=10 ............................................................\n",
      "[CV] ................................ C=10, score=0.825, total=   0.2s\n",
      "[CV] C=10 ............................................................\n",
      "[CV] ................................ C=10, score=0.815, total=   0.2s\n",
      "[CV] C=10 ............................................................\n",
      "[CV] ................................ C=10, score=0.801, total=   0.2s\n",
      "[CV] C=10 ............................................................\n",
      "[CV] ................................ C=10, score=0.801, total=   0.2s\n",
      "[CV] C=10 ............................................................\n",
      "[CV] ................................ C=10, score=0.808, total=   0.2s\n",
      "[CV] C=100 ...........................................................\n"
     ]
    },
    {
     "name": "stderr",
     "output_type": "stream",
     "text": [
      "/home/aamir/.local/lib/python3.5/site-packages/sklearn/svm/_base.py:947: ConvergenceWarning: Liblinear failed to converge, increase the number of iterations.\n",
      "  \"the number of iterations.\", ConvergenceWarning)\n"
     ]
    },
    {
     "name": "stdout",
     "output_type": "stream",
     "text": [
      "[CV] ............................... C=100, score=0.808, total=   0.7s\n",
      "[CV] C=100 ...........................................................\n",
      "[CV] ............................... C=100, score=0.796, total=   0.6s\n",
      "[CV] C=100 ...........................................................\n",
      "[CV] ............................... C=100, score=0.787, total=   0.6s\n",
      "[CV] C=100 ...........................................................\n",
      "[CV] ............................... C=100, score=0.787, total=   0.6s\n",
      "[CV] C=100 ...........................................................\n",
      "[CV] ............................... C=100, score=0.799, total=   0.7s\n",
      "[CV] C=1000 ..........................................................\n",
      "[CV] .............................. C=1000, score=0.804, total=   0.6s\n",
      "[CV] C=1000 ..........................................................\n",
      "[CV] .............................. C=1000, score=0.795, total=   0.6s\n",
      "[CV] C=1000 ..........................................................\n",
      "[CV] .............................. C=1000, score=0.787, total=   0.6s\n",
      "[CV] C=1000 ..........................................................\n",
      "[CV] .............................. C=1000, score=0.785, total=   0.6s\n",
      "[CV] C=1000 ..........................................................\n",
      "[CV] .............................. C=1000, score=0.800, total=   0.6s\n"
     ]
    },
    {
     "name": "stderr",
     "output_type": "stream",
     "text": [
      "[Parallel(n_jobs=1)]: Done  25 out of  25 | elapsed:    7.6s finished\n"
     ]
    },
    {
     "data": {
      "text/plain": [
       "GridSearchCV(cv=None, error_score=nan,\n",
       "             estimator=LinearSVC(C=1.0, class_weight=None, dual=True,\n",
       "                                 fit_intercept=True, intercept_scaling=1,\n",
       "                                 loss='squared_hinge', max_iter=1000,\n",
       "                                 multi_class='ovr', penalty='l2',\n",
       "                                 random_state=None, tol=0.0001, verbose=0),\n",
       "             iid='deprecated', n_jobs=None,\n",
       "             param_grid={'C': [0.1, 1, 10, 100, 1000]}, pre_dispatch='2*n_jobs',\n",
       "             refit=True, return_train_score=False, scoring=None, verbose=3)"
      ]
     },
     "execution_count": 92,
     "metadata": {},
     "output_type": "execute_result"
    }
   ],
   "source": [
    "# try tuning parameters\n",
    "\n",
    "from sklearn.model_selection import GridSearchCV\n",
    "\n",
    "params = {'C': [0.1, 1, 10, 100, 1000]}\n",
    "\n",
    "grid = GridSearchCV(LinearSVC(), params, refit=True, verbose=3)\n",
    "\n",
    "grid.fit(x_tr, y_tr)"
   ]
  },
  {
   "cell_type": "code",
   "execution_count": 98,
   "metadata": {},
   "outputs": [
    {
     "name": "stdout",
     "output_type": "stream",
     "text": [
      "Accuracy : 83.49%\n",
      "Precision : \n",
      "[80.40540541 78.76712329 66.66666667 83.01282051 91.15044248 89.04761905]\n"
     ]
    }
   ],
   "source": [
    "y_pred = grid.predict(x_te)\n",
    "print('Accuracy : {:.2f}%'.format(100*accuracy_score(y_pred, y_te)))\n",
    "print('Precision : \\n{}'.format(100*precision_score(y_pred, y_te, average = None)))\n"
   ]
  },
  {
   "cell_type": "code",
   "execution_count": 81,
   "metadata": {},
   "outputs": [],
   "source": [
    "def visualize_cm_binary(con, Labels):\n",
    "    \n",
    "    import seaborn as sns\n",
    "    \n",
    "#     Labels = ['True Negative', 'False Positive', 'False Negative', 'True Positive']\n",
    "\n",
    "    Labels = np.asarray(Labels).reshape(2,2)\n",
    "    sns.heatmap(con/np.sum(con), cmap='Blues')"
   ]
  },
  {
   "cell_type": "markdown",
   "metadata": {},
   "source": [
    "# Task 2 - Predict Topic"
   ]
  },
  {
   "cell_type": "code",
   "execution_count": 118,
   "metadata": {},
   "outputs": [],
   "source": [
    "x_tr, x_te, y_tr_2, y_te_2 = train_test_split(X, y2, test_size = 0.25, random_state = 42)"
   ]
  },
  {
   "cell_type": "code",
   "execution_count": 123,
   "metadata": {},
   "outputs": [
    {
     "name": "stdout",
     "output_type": "stream",
     "text": [
      "Classifier : SVC(C=1.0, break_ties=False, cache_size=200, class_weight=None, coef0=0.0,\n",
      "    decision_function_shape='ovo', degree=3, gamma='scale', kernel='rbf',\n",
      "    max_iter=-1, probability=False, random_state=None, shrinking=True,\n",
      "    tol=0.001, verbose=False)\n"
     ]
    },
    {
     "name": "stderr",
     "output_type": "stream",
     "text": [
      "/home/aamir/.local/lib/python3.5/site-packages/sklearn/metrics/_classification.py:1268: UndefinedMetricWarning: Recall is ill-defined and being set to 0.0 in labels with no true samples. Use `zero_division` parameter to control this behavior.\n",
      "  _warn_prf(average, modifier, msg_start, len(result))\n",
      "/home/aamir/.local/lib/python3.5/site-packages/sklearn/metrics/_classification.py:1268: UndefinedMetricWarning: Precision is ill-defined and being set to 0.0 in labels with no predicted samples. Use `zero_division` parameter to control this behavior.\n",
      "  _warn_prf(average, modifier, msg_start, len(result))\n"
     ]
    },
    {
     "name": "stdout",
     "output_type": "stream",
     "text": [
      "Metrics : \n",
      "\n",
      "Accuracy : 66.54%\n",
      "Precision : [ 93.58974359  13.46153846  26.08695652  63.63636364  95.\n",
      "  25.92592593  25.          77.31958763  86.95652174  61.70212766\n",
      "  16.66666667  61.11111111  32.95454545  95.12195122  86.44067797\n",
      "   0.           0.          21.42857143  86.84210526  50.\n",
      "  18.18181818  70.73170732   0.          61.53846154  42.85714286\n",
      "  57.14285714  11.11111111  68.75         0.          16.66666667\n",
      "   0.           0.           0.           0.          40.\n",
      "  50.          14.28571429   0.           0.           0.\n",
      "  33.33333333   0.           0.         100.           0.\n",
      "  33.33333333]\n",
      "Recall : [ 83.90804598 100.          85.71428571  93.33333333  59.84251969\n",
      "  93.33333333 100.          70.09345794  96.77419355 100.\n",
      "  66.66666667  91.66666667  90.625       98.73417722  39.84375\n",
      "   0.           0.          85.71428571  89.18918919  83.33333333\n",
      "  80.          93.5483871    0.          94.11764706 100.\n",
      " 100.          50.          78.57142857   0.         100.\n",
      "   0.           0.           0.           0.         100.\n",
      " 100.         100.           0.           0.           0.\n",
      " 100.           0.           0.         100.           0.\n",
      " 100.        ]\n",
      "Confusion Matrix : \n",
      "[[73  0  0 ...  0  0  0]\n",
      " [ 0  7  0 ...  0  0  0]\n",
      " [ 0  0  6 ...  0  0  0]\n",
      " ...\n",
      " [ 0  0  0 ...  1  0  0]\n",
      " [ 0  0  0 ...  0  0  0]\n",
      " [ 0  0  0 ...  0  0  1]]\n",
      "****************************************************************************************************\n",
      "\n",
      "\n",
      "\n",
      "Classifier : LinearSVC(C=1.0, class_weight=None, dual=True, fit_intercept=True,\n",
      "          intercept_scaling=1, loss='squared_hinge', max_iter=1000,\n",
      "          multi_class='ovr', penalty='l2', random_state=None, tol=0.0001,\n",
      "          verbose=0)\n",
      "Metrics : \n",
      "\n",
      "Accuracy : 77.70%\n",
      "Precision : [ 97.43589744  59.61538462  73.91304348  68.18181818  92.91666667\n",
      "  50.          75.          85.56701031  92.75362319  82.9787234\n",
      "  41.66666667  94.44444444  45.45454545  95.12195122  76.83615819\n",
      " 100.           0.          50.         100.         100.\n",
      "  36.36363636  85.36585366   0.          84.61538462  57.14285714\n",
      " 100.          33.33333333  93.75        50.          58.33333333\n",
      "  33.33333333  33.33333333  60.          66.66666667  40.\n",
      " 100.          28.57142857 100.          25.         100.\n",
      "  55.55555556   0.          50.         100.          16.66666667\n",
      "  66.66666667   0.        ]\n",
      "Recall : [ 91.56626506  79.48717949  62.96296296  93.75        72.4025974\n",
      "  71.05263158 100.          73.45132743  90.14084507  90.69767442\n",
      "  62.5         89.47368421  68.96551724  92.85714286  67.32673267\n",
      " 100.           0.          87.5         88.37209302  90.90909091\n",
      "  72.72727273  81.39534884   0.          91.66666667 100.\n",
      "  73.68421053  60.          83.33333333  80.          63.63636364\n",
      "  50.          50.         100.         100.         100.\n",
      " 100.          66.66666667  75.          25.         100.\n",
      " 100.           0.         100.         100.         100.\n",
      " 100.           0.        ]\n",
      "Confusion Matrix : \n",
      "[[76  0  0 ...  0  0  0]\n",
      " [ 0 31  0 ...  0  0  0]\n",
      " [ 0  0 17 ...  0  0  0]\n",
      " ...\n",
      " [ 0  1  0 ...  1  0  0]\n",
      " [ 0  0  0 ...  0  2  0]\n",
      " [ 0  0  0 ...  0  0  0]]\n",
      "****************************************************************************************************\n",
      "\n",
      "\n",
      "\n",
      "Classifier : DecisionTreeClassifier(ccp_alpha=0.0, class_weight=None, criterion='gini',\n",
      "                       max_depth=None, max_features=None, max_leaf_nodes=None,\n",
      "                       min_impurity_decrease=0.0, min_impurity_split=None,\n",
      "                       min_samples_leaf=1, min_samples_split=2,\n",
      "                       min_weight_fraction_leaf=0.0, presort='deprecated',\n",
      "                       random_state=None, splitter='best')\n"
     ]
    },
    {
     "name": "stderr",
     "output_type": "stream",
     "text": [
      "/home/aamir/.local/lib/python3.5/site-packages/sklearn/metrics/_classification.py:1268: UndefinedMetricWarning: Recall is ill-defined and being set to 0.0 in labels with no true samples. Use `zero_division` parameter to control this behavior.\n",
      "  _warn_prf(average, modifier, msg_start, len(result))\n"
     ]
    },
    {
     "name": "stdout",
     "output_type": "stream",
     "text": [
      "Metrics : \n",
      "\n",
      "Accuracy : 66.91%\n",
      "Precision : [ 94.87179487  46.15384615  47.82608696  59.09090909  80.83333333\n",
      "  29.62962963  50.          74.22680412  84.05797101  72.34042553\n",
      "  25.          83.33333333  54.54545455  95.12195122  62.14689266\n",
      "   0.           0.          25.          92.10526316  90.\n",
      "  27.27272727  75.6097561    0.          61.53846154  28.57142857\n",
      "  71.42857143  22.22222222 100.          25.          41.66666667\n",
      "   0.           0.          60.          66.66666667   0.\n",
      " 100.          28.57142857  33.33333333  25.           0.\n",
      "  77.77777778   0.           0.         100.           0.\n",
      "   0.        ]\n",
      "Recall : [ 94.87179487  54.54545455  47.82608696  76.47058824  67.59581882\n",
      "  48.48484848  50.          72.          87.87878788  64.1509434\n",
      "  23.07692308  75.          60.          90.69767442  54.72636816\n",
      "   0.           0.          53.84615385  83.33333333 100.\n",
      "  26.08695652  79.48717949   0.          80.         100.\n",
      "  45.45454545  28.57142857  88.88888889  33.33333333  50.\n",
      "   0.           0.         100.         100.           0.\n",
      "  50.          66.66666667  33.33333333  33.33333333   0.\n",
      "  70.           0.           0.         100.           0.\n",
      "   0.        ]\n",
      "Confusion Matrix : \n",
      "[[74  0  0 ...  0  0  0]\n",
      " [ 0 24  1 ...  0  0  0]\n",
      " [ 0  1 11 ...  0  0  0]\n",
      " ...\n",
      " [ 0  0  0 ...  1  0  0]\n",
      " [ 0  1  0 ...  0  0  0]\n",
      " [ 0  0  0 ...  0  0  0]]\n",
      "****************************************************************************************************\n",
      "\n",
      "\n",
      "\n",
      "Classifier : RandomForestClassifier(bootstrap=True, ccp_alpha=0.0, class_weight=None,\n",
      "                       criterion='gini', max_depth=None, max_features='auto',\n",
      "                       max_leaf_nodes=None, max_samples=None,\n",
      "                       min_impurity_decrease=0.0, min_impurity_split=None,\n",
      "                       min_samples_leaf=1, min_samples_split=2,\n",
      "                       min_weight_fraction_leaf=0.0, n_estimators=150,\n",
      "                       n_jobs=None, oob_score=False, random_state=None,\n",
      "                       verbose=0, warm_start=False)\n",
      "Metrics : \n",
      "\n",
      "Accuracy : 72.49%\n",
      "Precision : [ 97.43589744  48.07692308  39.13043478  63.63636364  92.91666667\n",
      "  31.48148148  25.          81.44329897  89.85507246  72.34042553\n",
      "  33.33333333  83.33333333  48.86363636  97.56097561  80.2259887\n",
      "   0.           0.          28.57142857  94.73684211  80.\n",
      "  31.81818182  73.17073171   0.          76.92307692  42.85714286\n",
      "  64.28571429  33.33333333  93.75        25.          50.\n",
      "   0.          16.66666667  20.           0.          40.\n",
      "  50.          28.57142857  66.66666667  25.           0.\n",
      "  44.44444444   0.          25.         100.           0.\n",
      "  33.33333333]\n",
      "Recall : [ 90.47619048  80.64516129  81.81818182  77.77777778  65.78171091\n",
      "  80.95238095 100.          72.47706422  92.53731343  91.89189189\n",
      "  80.          93.75        78.18181818  93.02325581  48.46416382\n",
      "   0.           0.          66.66666667  81.81818182  88.88888889\n",
      "  77.77777778  90.90909091   0.         100.         100.\n",
      " 100.         100.          88.23529412 100.          75.\n",
      "   0.         100.         100.           0.          66.66666667\n",
      " 100.          66.66666667 100.         100.           0.\n",
      "  80.           0.         100.         100.           0.\n",
      " 100.        ]\n",
      "Confusion Matrix : \n",
      "[[76  0  0 ...  0  0  0]\n",
      " [ 0 25  0 ...  0  1  0]\n",
      " [ 0  1  9 ...  0  0  0]\n",
      " ...\n",
      " [ 0  0  0 ...  1  0  0]\n",
      " [ 0  0  0 ...  0  0  0]\n",
      " [ 0  0  0 ...  0  0  1]]\n",
      "****************************************************************************************************\n",
      "\n",
      "\n",
      "\n"
     ]
    },
    {
     "name": "stderr",
     "output_type": "stream",
     "text": [
      "/home/aamir/.local/lib/python3.5/site-packages/sklearn/metrics/_classification.py:1268: UndefinedMetricWarning: Recall is ill-defined and being set to 0.0 in labels with no true samples. Use `zero_division` parameter to control this behavior.\n",
      "  _warn_prf(average, modifier, msg_start, len(result))\n"
     ]
    },
    {
     "data": {
      "text/plain": [
       "RandomForestClassifier(bootstrap=True, ccp_alpha=0.0, class_weight=None,\n",
       "                       criterion='gini', max_depth=None, max_features='auto',\n",
       "                       max_leaf_nodes=None, max_samples=None,\n",
       "                       min_impurity_decrease=0.0, min_impurity_split=None,\n",
       "                       min_samples_leaf=1, min_samples_split=2,\n",
       "                       min_weight_fraction_leaf=0.0, n_estimators=150,\n",
       "                       n_jobs=None, oob_score=False, random_state=None,\n",
       "                       verbose=0, warm_start=False)"
      ]
     },
     "execution_count": 123,
     "metadata": {},
     "output_type": "execute_result"
    }
   ],
   "source": [
    "# build models for this\n",
    "\n",
    "topic_svm = SVC(decision_function_shape='ovo')\n",
    "topic_linsvm = LinearSVC()\n",
    "topic_dt = DecisionTreeClassifier()\n",
    "topic_rf = RandomForestClassifier(n_estimators=150)\n",
    "\n",
    "evaluate(topic_svm, y_tr = y_tr_2, y_test = y_te_2) #labels are different now, same feature set though\n",
    "evaluate(topic_linsvm, y_tr = y_tr_2, y_test = y_te_2) \n",
    "evaluate(topic_dt, y_tr = y_tr_2, y_test = y_te_2)\n",
    "evaluate(topic_rf, y_tr = y_tr_2, y_test = y_te_2)\n"
   ]
  },
  {
   "cell_type": "code",
   "execution_count": 126,
   "metadata": {},
   "outputs": [
    {
     "name": "stdout",
     "output_type": "stream",
     "text": [
      "Fitting 5 folds for each of 5 candidates, totalling 25 fits\n",
      "[CV] C=0.1 ...........................................................\n",
      "[CV] ............................... C=0.1, score=0.692, total=   0.1s\n",
      "[CV] C=0.1 ...........................................................\n"
     ]
    },
    {
     "name": "stderr",
     "output_type": "stream",
     "text": [
      "/home/aamir/.local/lib/python3.5/site-packages/sklearn/model_selection/_split.py:667: UserWarning: The least populated class in y has only 1 members, which is less than n_splits=5.\n",
      "  % (min_groups, self.n_splits)), UserWarning)\n",
      "[Parallel(n_jobs=1)]: Using backend SequentialBackend with 1 concurrent workers.\n",
      "[Parallel(n_jobs=1)]: Done   1 out of   1 | elapsed:    0.1s remaining:    0.0s\n"
     ]
    },
    {
     "name": "stdout",
     "output_type": "stream",
     "text": [
      "[CV] ............................... C=0.1, score=0.685, total=   0.1s\n",
      "[CV] C=0.1 ...........................................................\n",
      "[CV] ............................... C=0.1, score=0.674, total=   0.1s\n",
      "[CV] C=0.1 ...........................................................\n"
     ]
    },
    {
     "name": "stderr",
     "output_type": "stream",
     "text": [
      "[Parallel(n_jobs=1)]: Done   2 out of   2 | elapsed:    0.3s remaining:    0.0s\n"
     ]
    },
    {
     "name": "stdout",
     "output_type": "stream",
     "text": [
      "[CV] ............................... C=0.1, score=0.678, total=   0.1s\n",
      "[CV] C=0.1 ...........................................................\n",
      "[CV] ............................... C=0.1, score=0.695, total=   0.1s\n",
      "[CV] C=1 .............................................................\n",
      "[CV] ................................. C=1, score=0.752, total=   0.2s\n",
      "[CV] C=1 .............................................................\n",
      "[CV] ................................. C=1, score=0.749, total=   0.2s\n",
      "[CV] C=1 .............................................................\n",
      "[CV] ................................. C=1, score=0.763, total=   0.2s\n",
      "[CV] C=1 .............................................................\n",
      "[CV] ................................. C=1, score=0.760, total=   0.2s\n",
      "[CV] C=1 .............................................................\n",
      "[CV] ................................. C=1, score=0.770, total=   0.2s\n",
      "[CV] C=10 ............................................................\n",
      "[CV] ................................ C=10, score=0.751, total=   0.4s\n",
      "[CV] C=10 ............................................................\n",
      "[CV] ................................ C=10, score=0.737, total=   0.4s\n",
      "[CV] C=10 ............................................................\n",
      "[CV] ................................ C=10, score=0.746, total=   0.4s\n",
      "[CV] C=10 ............................................................\n",
      "[CV] ................................ C=10, score=0.748, total=   0.4s\n",
      "[CV] C=10 ............................................................\n",
      "[CV] ................................ C=10, score=0.765, total=   0.4s\n",
      "[CV] C=100 ...........................................................\n"
     ]
    },
    {
     "name": "stderr",
     "output_type": "stream",
     "text": [
      "/home/aamir/.local/lib/python3.5/site-packages/sklearn/svm/_base.py:947: ConvergenceWarning: Liblinear failed to converge, increase the number of iterations.\n",
      "  \"the number of iterations.\", ConvergenceWarning)\n"
     ]
    },
    {
     "name": "stdout",
     "output_type": "stream",
     "text": [
      "[CV] ............................... C=100, score=0.736, total=   1.2s\n",
      "[CV] C=100 ...........................................................\n",
      "[CV] ............................... C=100, score=0.726, total=   1.2s\n",
      "[CV] C=100 ...........................................................\n",
      "[CV] ............................... C=100, score=0.731, total=   1.1s\n",
      "[CV] C=100 ...........................................................\n",
      "[CV] ............................... C=100, score=0.736, total=   1.2s\n",
      "[CV] C=100 ...........................................................\n",
      "[CV] ............................... C=100, score=0.765, total=   1.2s\n",
      "[CV] C=1000 ..........................................................\n",
      "[CV] .............................. C=1000, score=0.729, total=   1.1s\n",
      "[CV] C=1000 ..........................................................\n",
      "[CV] .............................. C=1000, score=0.726, total=   1.0s\n",
      "[CV] C=1000 ..........................................................\n",
      "[CV] .............................. C=1000, score=0.729, total=   0.9s\n",
      "[CV] C=1000 ..........................................................\n",
      "[CV] .............................. C=1000, score=0.733, total=   1.0s\n",
      "[CV] C=1000 ..........................................................\n",
      "[CV] .............................. C=1000, score=0.763, total=   1.0s\n",
      "Accuracy : 77.70%\n",
      "Precision :\n",
      "[ 97.43589744  59.61538462  73.91304348  68.18181818  92.91666667\n",
      "  50.          75.          85.56701031  92.75362319  82.9787234\n",
      "  41.66666667  94.44444444  45.45454545  95.12195122  76.83615819\n",
      " 100.           0.          50.         100.         100.\n",
      "  36.36363636  85.36585366   0.          84.61538462  57.14285714\n",
      " 100.          33.33333333  93.75        50.          58.33333333\n",
      "  33.33333333  33.33333333  60.          66.66666667  40.\n",
      " 100.          28.57142857 100.          25.         100.\n",
      "  55.55555556   0.          50.         100.          16.66666667\n",
      "  66.66666667   0.        ]\n"
     ]
    },
    {
     "name": "stderr",
     "output_type": "stream",
     "text": [
      "[Parallel(n_jobs=1)]: Done  25 out of  25 | elapsed:   14.5s finished\n",
      "/home/aamir/.local/lib/python3.5/site-packages/sklearn/metrics/_classification.py:1268: UndefinedMetricWarning: Precision is ill-defined and being set to 0.0 in labels with no predicted samples. Use `zero_division` parameter to control this behavior.\n",
      "  _warn_prf(average, modifier, msg_start, len(result))\n"
     ]
    }
   ],
   "source": [
    "# LinearSVM has the best accuracy\n",
    "\n",
    "topic_params = {'C': [0.1, 1, 10, 100, 1000]}\n",
    "\n",
    "topic_grid = GridSearchCV(LinearSVC(), topic_params, refit = True, verbose = 3)\n",
    "\n",
    "topic_grid.fit(x_tr , y_tr_2)\n",
    "y_pred = topic_grid.predict(x_te)\n",
    "\n",
    "print('Accuracy : {:.2f}%'.format(100*accuracy_score(y_pred, y_te_2)))\n",
    "print('Precision :\\n{}'.format(100*precision_score(y_pred, y_te_2, average = None)))"
   ]
  },
  {
   "cell_type": "markdown",
   "metadata": {},
   "source": [
    "# Save Relevant Files for a simple Prediction API"
   ]
  },
  {
   "cell_type": "code",
   "execution_count": 102,
   "metadata": {},
   "outputs": [],
   "source": [
    "#save the category model\n",
    "\n",
    "import pickle\n",
    "\n",
    "filename = 'Question_Classification_LinearSVM_model.pkl'\n",
    "pickle.dump(grid, open(filename, 'wb'))"
   ]
  },
  {
   "cell_type": "code",
   "execution_count": 127,
   "metadata": {},
   "outputs": [],
   "source": [
    "#save the topic model\n",
    "\n",
    "topic_filename = 'Question_Classification_LinearSVM_topic_model.pkl'\n",
    "pickle.dump(topic_grid, open(topic_filename, 'wb'))"
   ]
  },
  {
   "cell_type": "code",
   "execution_count": 103,
   "metadata": {},
   "outputs": [],
   "source": [
    "#save vectorizer\n",
    "\n",
    "vector_filename = 'Question_Classification_vectorizer.pkl'\n",
    "pickle.dump(vectorizer, open(vector_filename, 'wb'))"
   ]
  },
  {
   "cell_type": "code",
   "execution_count": 104,
   "metadata": {},
   "outputs": [
    {
     "name": "stdout",
     "output_type": "stream",
     "text": [
      "Accuracy : 83.49%\n"
     ]
    }
   ],
   "source": [
    "# load category model and check\n",
    "\n",
    "tuned_model = pickle.load(open(filename, 'rb'))\n",
    "result = tuned_model.score(x_te, y_te)*100\n",
    "\n",
    "print('Accuracy : {:.2f}%'.format(result)) #accuracy is preserved from the model"
   ]
  },
  {
   "cell_type": "code",
   "execution_count": 128,
   "metadata": {},
   "outputs": [
    {
     "name": "stdout",
     "output_type": "stream",
     "text": [
      "Accuracy : 77.70%\n"
     ]
    }
   ],
   "source": [
    "# load topic model and check\n",
    "\n",
    "tuned_topic_model = pickle.load(open(topic_filename, 'rb'))\n",
    "result = tuned_topic_model.score(x_te, y_te_2)*100\n",
    "\n",
    "print('Accuracy : {:.2f}%'.format(result)) #accuracy is preserved from the model"
   ]
  },
  {
   "cell_type": "code",
   "execution_count": 110,
   "metadata": {},
   "outputs": [],
   "source": [
    "# load vectorizer and check\n",
    "\n",
    "vectorizer = pickle.load(open(vector_filename, 'rb'))\n",
    "test_sent = vectorizer.transform(['This is nice'])"
   ]
  },
  {
   "cell_type": "code",
   "execution_count": 111,
   "metadata": {},
   "outputs": [
    {
     "data": {
      "text/plain": [
       "(1, 8412)"
      ]
     },
     "execution_count": 111,
     "metadata": {},
     "output_type": "execute_result"
    }
   ],
   "source": [
    "test_sent.shape #shape is preserved from the corpus."
   ]
  },
  {
   "cell_type": "code",
   "execution_count": 114,
   "metadata": {},
   "outputs": [],
   "source": [
    "#map category to label\n",
    "\n",
    "cat_label_dict, topic_label_dict = {},{}\n",
    "\n",
    "for val in df['Category1'].unique():\n",
    "    cat_label_dict[val] = df[df['Category1']==val]['cat_label'].unique()[0]\n",
    "    \n",
    "for val in df['Category2'].unique():\n",
    "    topic_label_dict[val] = df[df['Category2']==val]['topic_label'].unique()[0]"
   ]
  },
  {
   "cell_type": "code",
   "execution_count": 115,
   "metadata": {},
   "outputs": [
    {
     "data": {
      "text/plain": [
       "({'ABBR': 2, 'DESC': 0, 'ENTY': 1, 'HUM': 3, 'LOC': 5, 'NUM': 4},\n",
       " {'abb': 34,\n",
       "  'animal': 2,\n",
       "  'body': 22,\n",
       "  'city': 21,\n",
       "  'code': 39,\n",
       "  'color': 19,\n",
       "  'count': 13,\n",
       "  'country': 18,\n",
       "  'cremat': 1,\n",
       "  'currency': 46,\n",
       "  'date': 8,\n",
       "  'def': 7,\n",
       "  'desc': 12,\n",
       "  'dismed': 23,\n",
       "  'dist': 40,\n",
       "  'event': 10,\n",
       "  'exp': 3,\n",
       "  'food': 17,\n",
       "  'gr': 5,\n",
       "  'ind': 4,\n",
       "  'instru': 33,\n",
       "  'lang': 37,\n",
       "  'letter': 15,\n",
       "  'manner': 0,\n",
       "  'money': 25,\n",
       "  'mount': 24,\n",
       "  'ord': 43,\n",
       "  'other': 14,\n",
       "  'perc': 38,\n",
       "  'period': 27,\n",
       "  'plant': 30,\n",
       "  'product': 26,\n",
       "  'reason': 9,\n",
       "  'religion': 16,\n",
       "  'speed': 35,\n",
       "  'sport': 29,\n",
       "  'state': 11,\n",
       "  'substance': 28,\n",
       "  'symbol': 42,\n",
       "  'techmeth': 31,\n",
       "  'temp': 41,\n",
       "  'termeq': 20,\n",
       "  'title': 6,\n",
       "  'veh': 44,\n",
       "  'volsize': 32,\n",
       "  'weight': 45,\n",
       "  'word': 36})"
      ]
     },
     "execution_count": 115,
     "metadata": {},
     "output_type": "execute_result"
    }
   ],
   "source": [
    "cat_label_dict, topic_label_dict"
   ]
  },
  {
   "cell_type": "code",
   "execution_count": 117,
   "metadata": {},
   "outputs": [],
   "source": [
    "#save class names to disk as well\n",
    "\n",
    "with open('category_labels.txt', 'w') as f:\n",
    "    f.write(str(cat_label_dict))\n",
    "\n",
    "with open('topic_labels.txt', 'w') as f:\n",
    "    f.write(str(topic_label_dict))"
   ]
  },
  {
   "cell_type": "code",
   "execution_count": null,
   "metadata": {},
   "outputs": [],
   "source": []
  }
 ],
 "metadata": {
  "kernelspec": {
   "display_name": "Python 3",
   "language": "python",
   "name": "python3"
  },
  "language_info": {
   "codemirror_mode": {
    "name": "ipython",
    "version": 3
   },
   "file_extension": ".py",
   "mimetype": "text/x-python",
   "name": "python",
   "nbconvert_exporter": "python",
   "pygments_lexer": "ipython3",
   "version": "3.5.2"
  }
 },
 "nbformat": 4,
 "nbformat_minor": 2
}
