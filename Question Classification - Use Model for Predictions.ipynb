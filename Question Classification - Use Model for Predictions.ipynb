{
 "cells": [
  {
   "cell_type": "code",
   "execution_count": 1,
   "metadata": {},
   "outputs": [],
   "source": [
    "import numpy as np\n",
    "import pandas as pd\n",
    "\n",
    "import matplotlib.pyplot as plt\n",
    "\n",
    "import re\n",
    "import time\n",
    "import gc\n",
    "\n",
    "import nltk"
   ]
  },
  {
   "cell_type": "code",
   "execution_count": 2,
   "metadata": {},
   "outputs": [],
   "source": [
    "import pickle\n",
    "from sklearn.model_selection import GridSearchCV"
   ]
  },
  {
   "cell_type": "code",
   "execution_count": 3,
   "metadata": {},
   "outputs": [],
   "source": [
    "# load category model\n",
    "filename = 'Question_Classification_LinearSVM_model.pkl'\n",
    "tuned_category_model = pickle.load(open(filename, 'rb'))"
   ]
  },
  {
   "cell_type": "code",
   "execution_count": 4,
   "metadata": {},
   "outputs": [],
   "source": [
    "# load topic model\n",
    "topic_filename = 'Question_Classification_LinearSVM_topic_model.pkl'\n",
    "tuned_topic_model = pickle.load(open(filename, 'rb'))"
   ]
  },
  {
   "cell_type": "code",
   "execution_count": 5,
   "metadata": {},
   "outputs": [],
   "source": [
    "# load vectorizer\n",
    "\n",
    "vector_filename = 'Question_Classification_vectorizer.pkl'\n",
    "vectorizer = pickle.load(open(vector_filename, 'rb'))"
   ]
  },
  {
   "cell_type": "code",
   "execution_count": 6,
   "metadata": {},
   "outputs": [],
   "source": [
    "# load categories and class names\n",
    "\n",
    "from ast import literal_eval as le\n",
    "\n",
    "categories, topics = {},{}\n",
    "\n",
    "with open('category_labels.txt','r') as f:\n",
    "    categories = le(f.read())\n",
    "\n",
    "with open('topic_labels.txt','r') as f:\n",
    "    topics = le(f.read())"
   ]
  },
  {
   "cell_type": "code",
   "execution_count": 7,
   "metadata": {},
   "outputs": [
    {
     "data": {
      "text/plain": [
       "({'ABBR': 2, 'DESC': 0, 'ENTY': 1, 'HUM': 3, 'LOC': 5, 'NUM': 4},\n",
       " {'abb': 34,\n",
       "  'animal': 2,\n",
       "  'body': 22,\n",
       "  'city': 21,\n",
       "  'code': 39,\n",
       "  'color': 19,\n",
       "  'count': 13,\n",
       "  'country': 18,\n",
       "  'cremat': 1,\n",
       "  'currency': 46,\n",
       "  'date': 8,\n",
       "  'def': 7,\n",
       "  'desc': 12,\n",
       "  'dismed': 23,\n",
       "  'dist': 40,\n",
       "  'event': 10,\n",
       "  'exp': 3,\n",
       "  'food': 17,\n",
       "  'gr': 5,\n",
       "  'ind': 4,\n",
       "  'instru': 33,\n",
       "  'lang': 37,\n",
       "  'letter': 15,\n",
       "  'manner': 0,\n",
       "  'money': 25,\n",
       "  'mount': 24,\n",
       "  'ord': 43,\n",
       "  'other': 14,\n",
       "  'perc': 38,\n",
       "  'period': 27,\n",
       "  'plant': 30,\n",
       "  'product': 26,\n",
       "  'reason': 9,\n",
       "  'religion': 16,\n",
       "  'speed': 35,\n",
       "  'sport': 29,\n",
       "  'state': 11,\n",
       "  'substance': 28,\n",
       "  'symbol': 42,\n",
       "  'techmeth': 31,\n",
       "  'temp': 41,\n",
       "  'termeq': 20,\n",
       "  'title': 6,\n",
       "  'veh': 44,\n",
       "  'volsize': 32,\n",
       "  'weight': 45,\n",
       "  'word': 36})"
      ]
     },
     "execution_count": 7,
     "metadata": {},
     "output_type": "execute_result"
    }
   ],
   "source": [
    "categories, topics"
   ]
  },
  {
   "cell_type": "code",
   "execution_count": 8,
   "metadata": {},
   "outputs": [],
   "source": [
    "def lookup(dictionary, value):\n",
    "    \n",
    "    \"\"\"\n",
    "        Get the key of a particular value in a dict.\n",
    "        Input - Dictionary to map , Type : <dict>\n",
    "        Output - key for the given value , Type : <str>\n",
    "    \"\"\"\n",
    "    \n",
    "    for k,v in dictionary.items():\n",
    "        if v == value:\n",
    "            return k\n",
    "    \n",
    "    return 'Not Found'"
   ]
  },
  {
   "cell_type": "code",
   "execution_count": 9,
   "metadata": {},
   "outputs": [
    {
     "data": {
      "text/plain": [
       "'DESC'"
      ]
     },
     "execution_count": 9,
     "metadata": {},
     "output_type": "execute_result"
    }
   ],
   "source": [
    "lookup(categories, 0)"
   ]
  },
  {
   "cell_type": "code",
   "execution_count": 21,
   "metadata": {},
   "outputs": [],
   "source": [
    "def predict(text, category_model = tuned_category_model,\n",
    "            topic_model = tuned_topic_model,\n",
    "            vectorizer = vectorizer,\n",
    "            categories = categories,\n",
    "            topics = topics):\n",
    "    \n",
    "    #convert text to lower\n",
    "    text = text.lower()\n",
    "    \n",
    "    #form feature vectors\n",
    "    features = vectorizer.transform([text])\n",
    "    \n",
    "    #predict result category\n",
    "    print('Using best category model : {}'.format(category_model))\n",
    "    pred = category_model.predict(features)\n",
    "    \n",
    "    category = lookup(categories, pred[0])\n",
    "    print('Category : {}'.format(category))\n",
    "    \n",
    "    #predict result topic\n",
    "    print('\\n\\nUsing best topic model : {}'.format(topic_model))\n",
    "    pred = topic_model.predict(features)\n",
    "    \n",
    "    topic = lookup(topics, pred[0])\n",
    "    print('Topic : {}'.format(topic))\n",
    "    \n",
    "    return category, topic, category_model, topic_model"
   ]
  },
  {
   "cell_type": "code",
   "execution_count": 22,
   "metadata": {},
   "outputs": [
    {
     "name": "stdout",
     "output_type": "stream",
     "text": [
      "Using best category model : GridSearchCV(cv=None, error_score=nan,\n",
      "             estimator=LinearSVC(C=1.0, class_weight=None, dual=True,\n",
      "                                 fit_intercept=True, intercept_scaling=1,\n",
      "                                 loss='squared_hinge', max_iter=1000,\n",
      "                                 multi_class='ovr', penalty='l2',\n",
      "                                 random_state=None, tol=0.0001, verbose=0),\n",
      "             iid='deprecated', n_jobs=None,\n",
      "             param_grid={'C': [0.1, 1, 10, 100, 1000]}, pre_dispatch='2*n_jobs',\n",
      "             refit=True, return_train_score=False, scoring=None, verbose=3)\n",
      "Category : HUM\n",
      "\n",
      "\n",
      "Using best topic model : GridSearchCV(cv=None, error_score=nan,\n",
      "             estimator=LinearSVC(C=1.0, class_weight=None, dual=True,\n",
      "                                 fit_intercept=True, intercept_scaling=1,\n",
      "                                 loss='squared_hinge', max_iter=1000,\n",
      "                                 multi_class='ovr', penalty='l2',\n",
      "                                 random_state=None, tol=0.0001, verbose=0),\n",
      "             iid='deprecated', n_jobs=None,\n",
      "             param_grid={'C': [0.1, 1, 10, 100, 1000]}, pre_dispatch='2*n_jobs',\n",
      "             refit=True, return_train_score=False, scoring=None, verbose=3)\n",
      "Topic : exp\n"
     ]
    },
    {
     "data": {
      "text/plain": [
       "('HUM', 'exp', GridSearchCV(cv=None, error_score=nan,\n",
       "              estimator=LinearSVC(C=1.0, class_weight=None, dual=True,\n",
       "                                  fit_intercept=True, intercept_scaling=1,\n",
       "                                  loss='squared_hinge', max_iter=1000,\n",
       "                                  multi_class='ovr', penalty='l2',\n",
       "                                  random_state=None, tol=0.0001, verbose=0),\n",
       "              iid='deprecated', n_jobs=None,\n",
       "              param_grid={'C': [0.1, 1, 10, 100, 1000]}, pre_dispatch='2*n_jobs',\n",
       "              refit=True, return_train_score=False, scoring=None, verbose=3), GridSearchCV(cv=None, error_score=nan,\n",
       "              estimator=LinearSVC(C=1.0, class_weight=None, dual=True,\n",
       "                                  fit_intercept=True, intercept_scaling=1,\n",
       "                                  loss='squared_hinge', max_iter=1000,\n",
       "                                  multi_class='ovr', penalty='l2',\n",
       "                                  random_state=None, tol=0.0001, verbose=0),\n",
       "              iid='deprecated', n_jobs=None,\n",
       "              param_grid={'C': [0.1, 1, 10, 100, 1000]}, pre_dispatch='2*n_jobs',\n",
       "              refit=True, return_train_score=False, scoring=None, verbose=3))"
      ]
     },
     "execution_count": 22,
     "metadata": {},
     "output_type": "execute_result"
    }
   ],
   "source": [
    "predict('Who is Aamir Syed?')"
   ]
  },
  {
   "cell_type": "code",
   "execution_count": null,
   "metadata": {},
   "outputs": [],
   "source": []
  }
 ],
 "metadata": {
  "kernelspec": {
   "display_name": "Python 3",
   "language": "python",
   "name": "python3"
  },
  "language_info": {
   "codemirror_mode": {
    "name": "ipython",
    "version": 3
   },
   "file_extension": ".py",
   "mimetype": "text/x-python",
   "name": "python",
   "nbconvert_exporter": "python",
   "pygments_lexer": "ipython3",
   "version": "3.5.2"
  }
 },
 "nbformat": 4,
 "nbformat_minor": 2
}
